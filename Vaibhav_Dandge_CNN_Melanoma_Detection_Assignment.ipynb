{
  "cells": [
    {
      "cell_type": "markdown",
      "id": "9d74fbd8",
      "metadata": {
        "id": "9d74fbd8"
      },
      "source": [
        "Problem statement: To build a CNN based model which can accurately detect melanoma. Melanoma is a type of cancer that can be deadly if not detected early. It accounts for 75% of skin cancer deaths. A solution that can evaluate images and alert dermatologists about the presence of melanoma has the potential to reduce a lot of manual effort needed in diagnosis."
      ]
    },
    {
      "cell_type": "markdown",
      "id": "85da04ef",
      "metadata": {
        "id": "85da04ef"
      },
      "source": [
        "## Importing Skin Cancer Data\n",
        "\n",
        "#### To do: Take necessary actions to read the data\n",
        "\n",
        "#### Importing all the important libraries"
      ]
    },
    {
      "cell_type": "code",
      "execution_count": null,
      "id": "52294c09",
      "metadata": {
        "id": "52294c09"
      },
      "outputs": [],
      "source": [
        "import pathlib\n",
        "import tensorflow as tf\n",
        "import matplotlib.pyplot as plt\n",
        "import numpy as np\n",
        "import pandas as pd\n",
        "import os\n",
        "import PIL\n",
        "from tensorflow import keras\n",
        "from tensorflow.keras import layers\n",
        "from tensorflow.keras.models import Sequential"
      ]
    },
    {
      "cell_type": "code",
      "execution_count": null,
      "id": "da156c51",
      "metadata": {
        "id": "da156c51"
      },
      "outputs": [],
      "source": [
        "## If you are using the data by mounting the google drive, use the following :\n",
        "##from google.colab import drive\n",
        "##drive.mount('/content/gdrive')\n",
        "\n",
        "##Ref:https://towardsdatascience.com/downloading-datasets-into-google-drive-via-goog"
      ]
    },
    {
      "cell_type": "code",
      "execution_count": null,
      "id": "153cbfa3",
      "metadata": {
        "id": "153cbfa3"
      },
      "outputs": [],
      "source": [
        "from google.colab import drive\n",
        "drive.mount('/content/drive')"
      ]
    },
    {
      "cell_type": "markdown",
      "id": "1eb4b17b",
      "metadata": {
        "id": "1eb4b17b"
      },
      "source": [
        "This assignment uses a dataset of about 2357 images of skin cancer types. The dataset contains 9 sub-directories in each train and test subdirectories. The 9 sub-directories contains the images of 9 skin cancer types respectively."
      ]
    },
    {
      "cell_type": "code",
      "execution_count": null,
      "id": "7dc9a32b",
      "metadata": {
        "id": "7dc9a32b"
      },
      "outputs": [],
      "source": [
        "# Defining the path for train and test images\n",
        "## Todo: Update the paths of the train and test dataset\n",
        "data_dir_train = pathlib.Path(\"/content/drive/MyDrive/Cancer Detection /Train\")\n",
        "data_dir_test = pathlib.Path('/content/drive/MyDrive/Cancer Detection /Test')"
      ]
    },
    {
      "cell_type": "code",
      "execution_count": null,
      "id": "cca4344c",
      "metadata": {
        "id": "cca4344c"
      },
      "outputs": [],
      "source": [
        "image_count_train = len(list(data_dir_train.glob('*/*.jpg')))\n",
        "print(image_count_train)\n",
        "image_count_test = len(list(data_dir_test.glob('*/*.jpg')))\n",
        "print(image_count_test)"
      ]
    },
    {
      "cell_type": "markdown",
      "id": "7cd7c6c1",
      "metadata": {
        "id": "7cd7c6c1"
      },
      "source": [
        "### Load using keras.preprocessing\n",
        "Let's load these images off disk using the helpful image_dataset_from_directory utility.\n",
        "\n",
        "### Create a dataset\n",
        "Define some parameters for the loader:"
      ]
    },
    {
      "cell_type": "code",
      "execution_count": null,
      "id": "ab626c0a",
      "metadata": {
        "id": "ab626c0a"
      },
      "outputs": [],
      "source": [
        "batch_size = 32\n",
        "img_height = 180\n",
        "img_width = 180"
      ]
    },
    {
      "cell_type": "markdown",
      "id": "d817d3ea",
      "metadata": {
        "id": "d817d3ea"
      },
      "source": [
        "Use 80% of the images for training, and 20% for validation."
      ]
    },
    {
      "cell_type": "code",
      "execution_count": null,
      "id": "1d944a46",
      "metadata": {
        "id": "1d944a46"
      },
      "outputs": [],
      "source": [
        "## Write your train dataset here\n",
        "## Note use seed=123 while creating your dataset using tf.keras.preprocessing.image_dataset_from_directory\n",
        "## Note, make sure your resize your images to the size img_height*img_width, while writting the dataset\n",
        "train_ds = tf.keras.preprocessing.image_dataset_from_directory(\n",
        "    data_dir_train,\n",
        "    seed=123,\n",
        "    validation_split= 0.2,\n",
        "    subset= 'training',\n",
        "    image_size=(img_height,img_width),\n",
        "    batch_size = batch_size\n",
        ")"
      ]
    },
    {
      "cell_type": "code",
      "execution_count": null,
      "id": "8ecc0c4a",
      "metadata": {
        "id": "8ecc0c4a"
      },
      "outputs": [],
      "source": [
        "## Write your validation dataset here\n",
        "## Note use seed=123 while creating your dataset using tf.keras.preprocessing.image_dataset_from_directory\n",
        "## Note, make sure your resize your images to the size img_height*img_width, while writting the dataset\n",
        "val_ds = tf.keras.preprocessing.image_dataset_from_directory(\n",
        "    data_dir_train,\n",
        "    seed=123,\n",
        "    validation_split= 0.2,\n",
        "    subset= 'validation',\n",
        "    image_size=(img_height,img_width),\n",
        "    batch_size = batch_size\n",
        ")"
      ]
    },
    {
      "cell_type": "code",
      "execution_count": null,
      "id": "1a7d7f56",
      "metadata": {
        "id": "1a7d7f56"
      },
      "outputs": [],
      "source": [
        "# List out all the classes of skin cancer and store them in a list. \n",
        "# You can find the class names in the class_names attribute on these datasets. \n",
        "# These correspond to the directory names in alphabetical order.\n",
        "class_names = train_ds.class_names\n",
        "print(class_names)"
      ]
    },
    {
      "cell_type": "markdown",
      "id": "eec1fd04",
      "metadata": {
        "id": "eec1fd04"
      },
      "source": [
        "## Visualize the data\n",
        "#### Todo, create a code to visualize one instance of all the nine classes present in the dataset"
      ]
    },
    {
      "cell_type": "code",
      "execution_count": null,
      "id": "5c3ea1eb",
      "metadata": {
        "id": "5c3ea1eb"
      },
      "outputs": [],
      "source": [
        "import matplotlib.pyplot as plt\n",
        "plt.figure(figsize=(10,10))\n",
        "for i in range(9): \n",
        "  plt.subplot(3, 3, i + 1)\n",
        "  image = plt.imread(str(list(data_dir_train.glob(class_names[i]+'/*.jpg'))[1]))\n",
        "  plt.title(class_names[i])\n",
        "  plt.imshow(image)\n",
        "### your code goes here, you can use training or validation data to visualize\n"
      ]
    },
    {
      "cell_type": "code",
      "execution_count": null,
      "id": "56f35c87",
      "metadata": {
        "id": "56f35c87"
      },
      "outputs": [],
      "source": [
        "The image_batch is a tensor of the shape (32, 180, 180, 3). This is a batch of 32 images of shape 180x180x3 (the last dimension refers to color channels RGB). The label_batch is a tensor of the shape (32,), these are corresponding labels to the 32 images.\n",
        "\n",
        "Dataset.cache() keeps the images in memory after they're loaded off disk during the first epoch.\n",
        "\n",
        "Dataset.prefetch() overlaps data preprocessing and model execution while training."
      ]
    },
    {
      "cell_type": "code",
      "execution_count": null,
      "id": "49728d4c",
      "metadata": {
        "id": "49728d4c"
      },
      "outputs": [],
      "source": [
        "AUTOTUNE = tf.data.experimental.AUTOTUNE\n",
        "train_ds = train_ds.cache().shuffle(1000).prefetch(buffer_size=AUTOTUNE)\n",
        "val_ds = val_ds.cache().prefetch(buffer_size=AUTOTUNE)"
      ]
    },
    {
      "cell_type": "markdown",
      "id": "e13be154",
      "metadata": {
        "id": "e13be154"
      },
      "source": [
        "### Create the model\n",
        "#### Todo: Create a CNN model, which can accurately detect 9 classes present in the dataset. Use layers.experimental.preprocessing.Rescaling to normalize pixel values between (0,1). The RGB channel values are in the [0, 255] range. This is not ideal for a neural network. Here, it is good to standardize values to be in the [0, 1]"
      ]
    },
    {
      "cell_type": "code",
      "execution_count": null,
      "id": "93e6ae1b",
      "metadata": {
        "id": "93e6ae1b"
      },
      "outputs": [],
      "source": [
        "### Your code goes here\n",
        "from keras.layers import Dense, Dropout, Flatten, Conv2D, MaxPool2D\n",
        "num_classes = 9\n",
        "model = Sequential([\n",
        "                    layers.experimental.preprocessing.Rescaling(1./255, input_shape=(img_height, img_width,3))\n",
        "])\n",
        "model.add(Conv2D(filters = 32, kernel_size = (5,5),padding = 'Same', \n",
        "                 activation ='relu', input_shape = (180, 180, 32)))\n",
        "model.add(Conv2D(filters = 32, kernel_size = (5,5),padding = 'Same', \n",
        "                 activation ='relu'))\n",
        "model.add(MaxPool2D(pool_size=(2,2)))\n",
        "model.add(Conv2D(filters = 32, kernel_size = (5,5),padding = 'Same', \n",
        "                 activation ='relu'))\n",
        "model.add(MaxPool2D(pool_size=(2,2)))\n",
        "model.add(Conv2D(filters = 64, kernel_size = (5,5),padding = 'Same', \n",
        "                 activation ='relu'))\n",
        "model.add(MaxPool2D(pool_size=(2,2)))\n",
        "model.add(Conv2D(filters = 64, kernel_size = (5,5),padding = 'Same', \n",
        "                 activation ='relu'))\n",
        "model.add(MaxPool2D(pool_size=(2,2)))\n",
        "model.add(Dropout(0.25))\n",
        "\n",
        "\n",
        "model.add(Flatten())\n",
        "model.add(Dense(num_classes, activation = \"softmax\"))"
      ]
    },
    {
      "cell_type": "markdown",
      "id": "80b8f405",
      "metadata": {
        "id": "80b8f405"
      },
      "source": [
        "## Compile the model\n",
        "#### Choose an appropirate optimiser and loss function for model training"
      ]
    },
    {
      "cell_type": "code",
      "execution_count": null,
      "id": "1f7372e1",
      "metadata": {
        "id": "1f7372e1"
      },
      "outputs": [],
      "source": [
        "### Todo, choose an appropirate optimiser and loss function\n",
        "model.compile(optimizer='adam',\n",
        "              loss=tf.keras.losses.SparseCategoricalCrossentropy(from_logits=True),\n",
        "              metrics=['accuracy'])"
      ]
    },
    {
      "cell_type": "code",
      "execution_count": null,
      "id": "8d72893b",
      "metadata": {
        "id": "8d72893b"
      },
      "outputs": [],
      "source": [
        "# View the summary of all layers\n",
        "model.summary()"
      ]
    },
    {
      "cell_type": "markdown",
      "id": "6dcdf879",
      "metadata": {
        "id": "6dcdf879"
      },
      "source": [
        "## Train the model"
      ]
    },
    {
      "cell_type": "code",
      "execution_count": null,
      "id": "ac492bed",
      "metadata": {
        "id": "ac492bed"
      },
      "outputs": [],
      "source": [
        "epochs = 30\n",
        "history = model.fit(\n",
        "  train_ds,\n",
        "  validation_data=val_ds,\n",
        "  epochs=epochs\n",
        ")"
      ]
    },
    {
      "cell_type": "markdown",
      "id": "4178845d",
      "metadata": {
        "id": "4178845d"
      },
      "source": [
        "## Visualizing training results"
      ]
    },
    {
      "cell_type": "code",
      "execution_count": null,
      "id": "01957ec5",
      "metadata": {
        "id": "01957ec5"
      },
      "outputs": [],
      "source": [
        "acc = history.history['accuracy']\n",
        "val_acc = history.history['val_accuracy']\n",
        "\n",
        "loss = history.history['loss']\n",
        "val_loss = history.history['val_loss']\n",
        "\n",
        "epochs_range = range(epochs)\n",
        "\n",
        "plt.figure(figsize=(8, 8))\n",
        "plt.subplot(1, 2, 1)\n",
        "plt.plot(epochs_range, acc, label='Training Accuracy')\n",
        "plt.plot(epochs_range, val_acc, label='Validation Accuracy')\n",
        "plt.legend(loc='lower right')\n",
        "plt.title('Training and Validation Accuracy')\n",
        "\n",
        "plt.subplot(1, 2, 2)\n",
        "plt.plot(epochs_range, loss, label='Training Loss')\n",
        "plt.plot(epochs_range, val_loss, label='Validation Loss')\n",
        "plt.legend(loc='upper right')\n",
        "plt.title('Training and Validation Loss')\n",
        "plt.show()\n"
      ]
    },
    {
      "cell_type": "markdown",
      "id": "bfc351f8",
      "metadata": {
        "id": "bfc351f8"
      },
      "source": [
        "## Todo: Write your findings after the model fit, see if there is an evidence of model overfit or underfit\n",
        "#### Finding on the first base model\n",
        "\n",
        " - The model is overfitting because we can also see difference in loss functions in training & test around the 10-11th epoch\n",
        "\n",
        " - The accuracy is just around 75-80% because there are enough features to remember the pattern.\n",
        "\n",
        " - But again, it's too early to comment on the overfitting & underfitting debate"
      ]
    },
    {
      "cell_type": "code",
      "execution_count": null,
      "id": "0e4d09df",
      "metadata": {
        "id": "0e4d09df"
      },
      "outputs": [],
      "source": [
        "# Todo, after you have analysed the model fit history for presence of underfit or overfit, choose an appropriate data augumentation strategy. \n",
        "data_augument = keras.Sequential([\n",
        "                             layers.experimental.preprocessing.RandomFlip(mode=\"horizontal_and_vertical\",input_shape=(img_height,img_width,3)),\n",
        "                             layers.experimental.preprocessing.RandomRotation(0.2, fill_mode='reflect'),\n",
        "                             layers.experimental.preprocessing.RandomZoom(height_factor=(0.2, 0.3), width_factor=(0.2, 0.3), fill_mode='reflect')\n",
        "])"
      ]
    },
    {
      "cell_type": "code",
      "execution_count": null,
      "id": "da7ccda4",
      "metadata": {
        "id": "da7ccda4"
      },
      "outputs": [],
      "source": [
        "# Todo, visualize how your augmentation strategy works for one instance of training image.\n",
        "\n",
        "plt.figure(figsize=(12, 12))\n",
        "for images, labels in train_ds.take(1):\n",
        "    for i in range(9):\n",
        "        ax = plt.subplot(3, 3, i + 1)\n",
        "        plt.imshow(data_augument(images)[i].numpy().astype(\"uint8\"))\n",
        "        plt.title(class_names[labels[i]])\n",
        "        plt.axis(\"off\")"
      ]
    },
    {
      "cell_type": "markdown",
      "id": "4a277854",
      "metadata": {
        "id": "4a277854"
      },
      "source": [
        "### Todo:\n",
        "### Create the model, compile and train the model"
      ]
    },
    {
      "cell_type": "code",
      "execution_count": null,
      "id": "48ee7c3f",
      "metadata": {
        "id": "48ee7c3f"
      },
      "outputs": [],
      "source": [
        "## You can use Dropout layer if there is an evidence of overfitting in your findings\n",
        "from keras.layers import Dense, Dropout, Flatten, Conv2D, MaxPool2D\n",
        "num_classes = 9\n",
        "model = Sequential([ data_augument,\n",
        "                    layers.experimental.preprocessing.Rescaling(1./255, input_shape=(img_height, img_width,3))\n",
        "      \n",
        "])\n",
        "model.add(Conv2D(filters = 32, kernel_size = (5,5),padding = 'Same', \n",
        "                 activation ='relu', input_shape = (180, 180, 32)))\n",
        "model.add(Conv2D(filters = 32, kernel_size = (5,5),padding = 'Same', \n",
        "                 activation ='relu'))\n",
        "model.add(MaxPool2D(pool_size=(2,2)))\n",
        "model.add(Conv2D(filters = 64, kernel_size = (5,5),padding = 'Same', \n",
        "                 activation ='relu'))\n",
        "model.add(MaxPool2D(pool_size=(2,2)))\n",
        "model.add(Conv2D(filters = 64, kernel_size = (5,5),padding = 'Same', \n",
        "                 activation ='relu'))\n",
        "model.add(MaxPool2D(pool_size=(2,2)))\n",
        "model.add(Dropout(0.25))\n",
        "\n",
        "\n",
        "model.add(Flatten())\n",
        "model.add(Dense(num_classes, activation = \"softmax\"))\n"
      ]
    },
    {
      "cell_type": "markdown",
      "id": "2a1c7afa",
      "metadata": {
        "id": "2a1c7afa"
      },
      "source": [
        "## Compiling the model"
      ]
    },
    {
      "cell_type": "code",
      "execution_count": null,
      "id": "cc5c2c36",
      "metadata": {
        "id": "cc5c2c36"
      },
      "outputs": [],
      "source": [
        "### Your code goes here\n",
        "model.compile(optimizer='adam',\n",
        "              loss=tf.keras.losses.SparseCategoricalCrossentropy(from_logits=True),\n",
        "              metrics=['accuracy'])"
      ]
    },
    {
      "cell_type": "markdown",
      "id": "422363f8",
      "metadata": {
        "id": "422363f8"
      },
      "source": [
        "## Training the model"
      ]
    },
    {
      "cell_type": "code",
      "execution_count": null,
      "id": "377dba49",
      "metadata": {
        "id": "377dba49"
      },
      "outputs": [],
      "source": [
        "## Your code goes here, note: train your model for 20 epochs\n",
        "epochs=30\n",
        "history = model.fit(\n",
        "  train_ds,\n",
        "  validation_data=val_ds,\n",
        "  epochs=epochs\n",
        ")"
      ]
    },
    {
      "cell_type": "markdown",
      "id": "477d7cab",
      "metadata": {
        "id": "477d7cab"
      },
      "source": [
        "## Visualizing the results"
      ]
    },
    {
      "cell_type": "code",
      "execution_count": null,
      "id": "45531df0",
      "metadata": {
        "id": "45531df0"
      },
      "outputs": [],
      "source": [
        "acc = history.history['accuracy']\n",
        "val_acc = history.history['val_accuracy']\n",
        "\n",
        "loss = history.history['loss']\n",
        "val_loss = history.history['val_loss']\n",
        "\n",
        "epochs_range = range(epochs)\n",
        "\n",
        "plt.figure(figsize=(8, 8))\n",
        "plt.subplot(1, 2, 1)\n",
        "plt.plot(epochs_range, acc, label='Training Accuracy')\n",
        "plt.plot(epochs_range, val_acc, label='Validation Accuracy')\n",
        "plt.legend(loc='lower right')\n",
        "plt.title('Training and Validation Accuracy')\n",
        "\n",
        "plt.subplot(1, 2, 2)\n",
        "plt.plot(epochs_range, loss, label='Training Loss')\n",
        "plt.plot(epochs_range, val_loss, label='Validation Loss')\n",
        "plt.legend(loc='upper right')\n",
        "plt.title('Training and Validation Loss')\n",
        "plt.show()\n"
      ]
    },
    {
      "cell_type": "markdown",
      "id": "e7b42ff9",
      "metadata": {
        "id": "e7b42ff9"
      },
      "source": [
        "### Todo: Write your findings after the model fit, see if there is an evidence of model overfit or underfit. Do you think there is some improvement now as compared to the previous model run?\n",
        "Finding from Second Model\n",
        "\n",
        " - There is no improvement in accuracy but we can definitely see the overfitting problem has solved due to data augmentation\n",
        "\n",
        " - We can increase the epochs to increase the accuracy so it's too early for judgement"
      ]
    },
    {
      "cell_type": "markdown",
      "id": "d68c3437",
      "metadata": {
        "id": "d68c3437"
      },
      "source": [
        "### Todo: Find the distribution of classes in the training dataset\n",
        "#### Context: Many times real life datasets can have class imbalance, one class can have proportionately higher number of samples compared to the others. Class imbalance can have a detrimental effect on the final model quality. Hence as a sanity check it becomes important to check what is the distribution of classes in the data."
      ]
    },
    {
      "cell_type": "code",
      "execution_count": null,
      "id": "927bf00a",
      "metadata": {
        "id": "927bf00a"
      },
      "outputs": [],
      "source": [
        "#\n",
        "path_list=[]\n",
        "lesion_list=[]\n",
        "for i in class_names:\n",
        "      \n",
        "    for j in data_dir_train.glob(i+'/*.jpg'):\n",
        "        path_list.append(str(j))\n",
        "        lesion_list.append(i)\n",
        "dataframe_dict_original = dict(zip(path_list, lesion_list))\n",
        "original_df = pd.DataFrame(list(dataframe_dict_original.items()),columns = ['Path','Label'])\n",
        "original_df"
      ]
    },
    {
      "cell_type": "code",
      "execution_count": null,
      "id": "3803c8bb",
      "metadata": {
        "id": "3803c8bb"
      },
      "outputs": [],
      "source": [
        "dataframe_dict_original = dict(zip(path_list, lesion_list))\n",
        "original_df = pd.DataFrame(list(dataframe_dict_original.items()),columns = ['Path','Label'])\n",
        "original_df"
      ]
    },
    {
      "cell_type": "code",
      "execution_count": null,
      "id": "89e94498",
      "metadata": {
        "id": "89e94498"
      },
      "outputs": [],
      "source": [
        "count=[]\n",
        "for i in class_names:\n",
        "    count.append(len(list(data_dir_train.glob(i+'/*.jpg'))))\n",
        "plt.figure(figsize=(25,10))\n",
        "plt.bar(class_names,count)"
      ]
    },
    {
      "cell_type": "markdown",
      "id": "618f572d",
      "metadata": {
        "id": "618f572d"
      },
      "source": [
        "### Todo: Write your findings here:\n",
        "-Which class has the least number of samples?\n",
        "\n",
        "Answer :- squamous cell carcinoma has least number of samples\n",
        "\n",
        "\n",
        "-Which classes dominate the data in terms proportionate number of samples?\n",
        "\n",
        "Answer :- actinic keratosis and dermatofibroma have proportionate number of classes. melanoma and pigmented benign keratosis have proprtionate number of classes"
      ]
    },
    {
      "cell_type": "code",
      "execution_count": null,
      "id": "4f63a964",
      "metadata": {
        "id": "4f63a964"
      },
      "outputs": [],
      "source": [
        "class_names"
      ]
    },
    {
      "cell_type": "markdown",
      "id": "9d42a3ca",
      "metadata": {
        "id": "9d42a3ca"
      },
      "source": [
        "### Todo: Rectify the class imbalance\n",
        "#### Context: You can use a python package known as Augmentor (https://augmentor.readthedocs.io/en/master/) to add more samples across all classes so that none of the classes have very few samples."
      ]
    },
    {
      "cell_type": "code",
      "execution_count": null,
      "id": "dbcd885e",
      "metadata": {
        "id": "dbcd885e"
      },
      "outputs": [],
      "source": [
        "!pip install Augmentor"
      ]
    },
    {
      "cell_type": "markdown",
      "id": "a1fe396b",
      "metadata": {
        "id": "a1fe396b"
      },
      "source": [
        "#### To use Augmentor, the following general procedure is followed:\n",
        "\n",
        "1.Instantiate a Pipeline object pointing to a directory containing your initial image data set.\n",
        "\n",
        "2.Define a number of operations to perform on this data set using your Pipeline object.\n",
        "\n",
        "3.Execute these operations by calling the Pipeline’s sample() method.\n"
      ]
    },
    {
      "cell_type": "code",
      "execution_count": null,
      "id": "83bf1d7c",
      "metadata": {
        "id": "83bf1d7c"
      },
      "outputs": [],
      "source": [
        "#path_to_training_dataset=\"/content/drive/MyDrive/Cancer Detection /Train\"\n",
        "import Augmentor\n",
        "for i in class_names:\n",
        "    p = Augmentor.Pipeline(\"/content/drive/MyDrive/Cancer Detection /Train\",save_format='jpg')\n",
        "    p.rotate(probability=0.7, max_left_rotation=10, max_right_rotation=10)\n",
        "    p.sample(500) ## We are adding 500 samples per class to make sure that none of the classes are sparse."
      ]
    },
    {
      "cell_type": "markdown",
      "id": "6efdb3da",
      "metadata": {
        "id": "6efdb3da"
      },
      "source": [
        "Augmentor has stored the augmented images in the output sub-directory of each of the sub-directories of skin cancer types.. Lets take a look at total count of augmented images."
      ]
    },
    {
      "cell_type": "code",
      "execution_count": null,
      "id": "c17e4b30",
      "metadata": {
        "id": "c17e4b30"
      },
      "outputs": [],
      "source": [
        "data_dir_train1 = pathlib.Path(\"/content/drive/MyDrive/Cancer Detection /Train/output\")\n",
        "image_count_train1 = len(list(data_dir_train1.glob('*/*.jpg')))\n",
        "print(image_count_train1)"
      ]
    },
    {
      "cell_type": "code",
      "execution_count": null,
      "id": "5afd752a",
      "metadata": {
        "id": "5afd752a"
      },
      "outputs": [],
      "source": [
        "##\n",
        "for i in class_names:\n",
        "      \n",
        "    for j in data_dir_train1.glob(i+'/*.jpg'):\n",
        "        path_list.append(str(j))\n",
        "        lesion_list.append(i)\n",
        "dataframe_dict_original = dict(zip(path_list, lesion_list))\n",
        "new_df = pd.DataFrame(list(dataframe_dict_original.items()),columns = ['Path','Label'])\n",
        "new_df"
      ]
    },
    {
      "cell_type": "markdown",
      "id": "47939262",
      "metadata": {
        "id": "47939262"
      },
      "source": [
        "### Lets see the distribution of augmented data after adding new images to the original training data."
      ]
    },
    {
      "cell_type": "code",
      "execution_count": null,
      "id": "8ca0bc69",
      "metadata": {
        "id": "8ca0bc69"
      },
      "outputs": [],
      "source": [
        "new_df['Label'].value_counts()"
      ]
    },
    {
      "cell_type": "markdown",
      "id": "212476c3",
      "metadata": {
        "id": "212476c3"
      },
      "source": [
        "So, now we have added 500 images to all the classes to maintain some class balance. We can add more images as we want to improve training process.\n",
        "\n"
      ]
    },
    {
      "cell_type": "markdown",
      "id": "575acd5c",
      "metadata": {
        "id": "575acd5c"
      },
      "source": [
        "### Todo: Train the model on the data created using Augmentor"
      ]
    },
    {
      "cell_type": "code",
      "execution_count": null,
      "id": "b61450be",
      "metadata": {
        "id": "b61450be"
      },
      "outputs": [],
      "source": [
        "batch_size = 32\n",
        "img_height = 180\n",
        "img_width = 180"
      ]
    },
    {
      "cell_type": "code",
      "execution_count": null,
      "id": "eefe8cba",
      "metadata": {
        "id": "eefe8cba"
      },
      "outputs": [],
      "source": [
        "import pathlib\n",
        "#data_dir_train1=pathlib.Path(\"/content/drive/MyDrive/Cancer Detection /Train/output\")\n",
        "data_dir_train1=pathlib.Path(\"/content/drive/MyDrive/Cancer Detection /Train\")"
      ]
    },
    {
      "cell_type": "code",
      "execution_count": null,
      "id": "dc7e18d8",
      "metadata": {
        "id": "dc7e18d8"
      },
      "outputs": [],
      "source": [
        "data_dir_train1"
      ]
    },
    {
      "cell_type": "markdown",
      "id": "980e8dd5",
      "metadata": {
        "id": "980e8dd5"
      },
      "source": [
        "### Todo: Create a training dataset"
      ]
    },
    {
      "cell_type": "code",
      "execution_count": null,
      "id": "994a1f30",
      "metadata": {
        "id": "994a1f30"
      },
      "outputs": [],
      "source": [
        "image_count_train1 = len(list(data_dir_train1.glob('*/*.jpg')))\n",
        "print(image_count_train1)"
      ]
    },
    {
      "cell_type": "code",
      "execution_count": null,
      "id": "52e48b84",
      "metadata": {
        "id": "52e48b84"
      },
      "outputs": [],
      "source": [
        "import pathlib\n",
        "import tensorflow as tf\n",
        "import matplotlib.pyplot as plt\n",
        "import numpy as np\n",
        "import pandas as pd\n",
        "import os\n",
        "import PIL\n",
        "from tensorflow import keras\n",
        "from tensorflow.keras import layers\n",
        "from tensorflow.keras.models import Sequential\n",
        "\n",
        "\n",
        "data_dir_train1=pathlib.Path(\"/content/drive/MyDrive/Cancer Detection /Train\")\n",
        "train_ds = tf.keras.preprocessing.image_dataset_from_directory(\n",
        "  data_dir_train1,\n",
        "  seed=123,\n",
        "  validation_split = 0.2,\n",
        "  subset = \"training\",\n",
        "  image_size=(img_height, img_width),\n",
        "  batch_size=batch_size)"
      ]
    },
    {
      "cell_type": "markdown",
      "id": "90403568",
      "metadata": {
        "id": "90403568"
      },
      "source": [
        "### Todo: Create a validation dataset"
      ]
    },
    {
      "cell_type": "code",
      "execution_count": null,
      "id": "c6790756",
      "metadata": {
        "id": "c6790756"
      },
      "outputs": [],
      "source": [
        "val_ds = tf.keras.preprocessing.image_dataset_from_directory(\n",
        "  data_dir_train1,\n",
        "  seed=123,\n",
        "  validation_split = 0.2,\n",
        "  subset = 'validation',\n",
        "  image_size=(img_height, img_width),\n",
        "  batch_size=batch_size)"
      ]
    },
    {
      "cell_type": "markdown",
      "id": "885f872c",
      "metadata": {
        "id": "885f872c"
      },
      "source": [
        "### Todo: Create your model (make sure to include normalization)\n"
      ]
    },
    {
      "cell_type": "code",
      "execution_count": null,
      "id": "d2f76b05",
      "metadata": {
        "id": "d2f76b05"
      },
      "outputs": [],
      "source": [
        "## You can use Dropout layer if there is an evidence of overfitting in your findings\n",
        "from keras.layers import Dense, Dropout, Flatten, Conv2D, MaxPool2D\n",
        "num_classes = 9\n",
        "model = Sequential([ \n",
        "                    layers.experimental.preprocessing.Rescaling(1./255, input_shape=(img_height, img_width,3))\n",
        "      \n",
        "])\n",
        "model.add(Conv2D(filters = 32, kernel_size = (5,5),padding = 'Same', \n",
        "                 activation ='relu', input_shape = (180, 180, 32)))\n",
        "model.add(Conv2D(filters = 32, kernel_size = (5,5),padding = 'Same', \n",
        "                 activation ='relu'))\n",
        "model.add(MaxPool2D(pool_size=(2,2)))\n",
        "model.add(Conv2D(filters = 64, kernel_size = (5,5),padding = 'Same', \n",
        "                 activation ='relu'))\n",
        "model.add(MaxPool2D(pool_size=(2,2)))\n",
        "model.add(Conv2D(filters = 64, kernel_size = (5,5),padding = 'Same', \n",
        "                 activation ='relu'))\n",
        "model.add(MaxPool2D(pool_size=(2,2)))\n",
        "model.add(Dropout(0.25))\n",
        "\n",
        "\n",
        "model.add(Flatten())\n",
        "model.add(Dense(num_classes, activation = \"softmax\"))"
      ]
    },
    {
      "cell_type": "markdown",
      "id": "691832d6",
      "metadata": {
        "id": "691832d6"
      },
      "source": [
        "### Todo: Compile your model (Choose optimizer and loss function appropriately)\n"
      ]
    },
    {
      "cell_type": "code",
      "execution_count": null,
      "id": "5c145139",
      "metadata": {
        "id": "5c145139"
      },
      "outputs": [],
      "source": [
        "## ### Your code goes here\n",
        "model.compile(optimizer='adam',\n",
        "              loss=tf.keras.losses.SparseCategoricalCrossentropy(from_logits=True),\n",
        "              metrics=['accuracy'])\n"
      ]
    },
    {
      "cell_type": "markdown",
      "id": "23f6451d",
      "metadata": {
        "id": "23f6451d"
      },
      "source": [
        "### Todo: Train your model"
      ]
    },
    {
      "cell_type": "code",
      "execution_count": null,
      "id": "a8a94b84",
      "metadata": {
        "id": "a8a94b84"
      },
      "outputs": [],
      "source": [
        "epochs =50\n",
        "## Your code goes here, use 50 epochs.\n",
        "history = model.fit(\n",
        "  train_ds,\n",
        "  validation_data=val_ds,\n",
        "  epochs=epochs\n",
        ")"
      ]
    },
    {
      "cell_type": "markdown",
      "id": "136e1c3c",
      "metadata": {
        "id": "136e1c3c"
      },
      "source": [
        "### Todo: Visualize the model results"
      ]
    },
    {
      "cell_type": "code",
      "execution_count": null,
      "id": "1675cc53",
      "metadata": {
        "id": "1675cc53"
      },
      "outputs": [],
      "source": [
        "acc = history.history['accuracy']\n",
        "val_acc = history.history['val_accuracy']\n",
        "\n",
        "loss = history.history['loss']\n",
        "val_loss = history.history['val_loss']\n",
        "\n",
        "epochs_range = range(epochs)\n",
        "\n",
        "plt.figure(figsize=(8, 8))\n",
        "plt.subplot(1, 2, 1)\n",
        "plt.plot(epochs_range, acc, label='Training Accuracy')\n",
        "plt.plot(epochs_range, val_acc, label='Validation Accuracy')\n",
        "plt.legend(loc='lower right')\n",
        "plt.title('Training and Validation Accuracy')\n",
        "\n",
        "plt.subplot(1, 2, 2)\n",
        "plt.plot(epochs_range, loss, label='Training Loss')\n",
        "plt.plot(epochs_range, val_loss, label='Validation Loss')\n",
        "plt.legend(loc='upper right')\n",
        "plt.title('Training and Validation Loss')\n",
        "plt.show()"
      ]
    },
    {
      "cell_type": "markdown",
      "id": "8a26eda7",
      "metadata": {
        "id": "8a26eda7"
      },
      "source": [
        "## Todo: Analyze your results here. Did you get rid of underfitting/overfitting? Did class rebalance help?\n",
        "\n",
        " - Accuracy on training data has increased by using Augmentor library\n",
        "\n",
        " - Model is still overfitting\n",
        "\n",
        " - The problem of overfitting can be solved by add more layer,neurons or adding dropout layers.\n",
        "\n",
        " - The Model can be further improved by tuning the hyperparameter"
      ]
    },
    {
      "cell_type": "code",
      "execution_count": null,
      "id": "e80f5e41",
      "metadata": {
        "id": "e80f5e41"
      },
      "outputs": [],
      "source": [
        ""
      ]
    },
    {
      "cell_type": "code",
      "execution_count": null,
      "id": "040ef625",
      "metadata": {
        "id": "040ef625"
      },
      "outputs": [],
      "source": [
        ""
      ]
    },
    {
      "cell_type": "code",
      "execution_count": null,
      "id": "abf7f08d",
      "metadata": {
        "id": "abf7f08d"
      },
      "outputs": [],
      "source": [
        ""
      ]
    }
  ],
  "metadata": {
    "kernelspec": {
      "display_name": "Python 3 (ipykernel)",
      "language": "python",
      "name": "python3"
    },
    "language_info": {
      "codemirror_mode": {
        "name": "ipython",
        "version": 3
      },
      "file_extension": ".py",
      "mimetype": "text/x-python",
      "name": "python",
      "nbconvert_exporter": "python",
      "pygments_lexer": "ipython3",
      "version": "3.9.7"
    },
    "colab": {
      "name": "Melanoma Detection Assignment_CNN_Vaibhav_Dandge (1).ipynb",
      "provenance": []
    }
  },
  "nbformat": 4,
  "nbformat_minor": 5
}
